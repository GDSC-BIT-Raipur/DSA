{
 "cells": [
  {
   "cell_type": "markdown",
   "metadata": {},
   "source": [
    "# Array Searching \n",
    "\n",
    "Searching Algorithms are designed to check for an element or retrieve an element from any data structure where it is stored.\n",
    "\n",
    "![array_search_image](../../../../graphics/search.png)\n",
    "\n",
    "\n",
    "Based on the type of search operation, these algorithms are generally classified into two categories:\n",
    "\n",
    "    - Linear Search \n",
    "    - Interval Search\n",
    "\n"
   ]
  },
  {
   "cell_type": "markdown",
   "metadata": {},
   "source": [
    "## Linear Search \n"
   ]
  },
  {
   "cell_type": "markdown",
   "metadata": {},
   "source": [
    "\n",
    "![array_search_image](../../../../graphics/search.png)\n",
    "\n",
    "\n",
    "Linear Search is defined as a sequential search algorithm that starts at one end and goes through each element of a list until the desired element is found, otherwise the search continues till the end of the data set.\n",
    "\n",
    "\n",
    "\n",
    "### How linear search works ?\n",
    "\n",
    "![array_search_image](../../../../graphics/gif/linear_search_gif.gif)\n",
    "\n",
    "\n",
    "List: [10, 14, 18, 26, 31, 33, 35, 42, 44]\n",
    "\n",
    "Finding 33 in a List\n",
    "\n",
    "\n",
    "**Steps:**\n",
    "\n",
    "1. **Start at the beginning:** Begin by looking at the first number, which is 10.\n",
    "\n",
    "2. **Check each number:** Move through the list one by one.\n",
    "\n",
    "3. **Match found:** At the 6th number, which is 33, a match is found!\n",
    "\n",
    "4. **Stop:** The search stops since the desired number has been found.\n",
    "\n"
   ]
  },
  {
   "cell_type": "code",
   "execution_count": 180,
   "metadata": {},
   "outputs": [
    {
     "name": "stdout",
     "output_type": "stream",
     "text": [
      "5\n"
     ]
    }
   ],
   "source": [
    "def find(arr: list, key: int) -> int:\n",
    "    \"\"\"\n",
    "    Performs a linear search to find a key in the given array.\n",
    "    Parameters:\n",
    "    arr (list): The list of elements to search through.\n",
    "    key (int): The element to search for in the array.\n",
    "    \n",
    "    Returns:\n",
    "    int: The index of the key if found, -1 if not found.\n",
    "    \"\"\"\n",
    "    for i in range(0, len(arr)):  # Loop through each index in the array.\n",
    "        if arr[i] == key:  # Compare the element at the current index with the key.\n",
    "            return i  # If a match is found, return the index.\n",
    "    return -1  # If the loop completes without finding a match, return -1.\n",
    "\n",
    "# Example usage\n",
    "array = [10, 14, 18, 26, 31, 33, 35, 42, 44]\n",
    "search_key = 33\n",
    "print(find(array, search_key))\n"
   ]
  },
  {
   "cell_type": "markdown",
   "metadata": {},
   "source": [
    "\n",
    "### Linear Search Complexity Analysis\n",
    "\n",
    "- **Best Case Complexity:** In the best case, the desired element is the first element in the list. This results in only one comparison, making the best-case time complexity **O(1)**.\n",
    "\n",
    "- **Average Case Complexity:** On average, in an unordered list, you might need to search through half of the list's elements before finding the target element. This leads to an average time complexity of **O(n/2)**, which simplifies to **O(n)**.\n",
    "\n",
    "- **Worst Case Complexity:** In the worst case, you might need to search through all the elements in the list before finding the target or concluding that it's not there. The worst-case time complexity is **O(n)**, where **n** is the number of elements in the list.\n",
    "\n",
    "- **Space Complexity:** Linear search doesn't require additional data structures, resulting in a space complexity of **O(1)**, indicating a constant memory usage.\n",
    "\n",
    "### Advantages \n",
    "    - Linear search can be used irrespective of whether the array is sorted or not. It can be used on arrays of any data type.\n",
    "    - Does not require any additional memory.\n",
    "    - It is a well-suited algorithm for small datasets.\n",
    "\n",
    "\n",
    "### Disadvantages\n",
    "    - Linear search has a time complexity of O(N), which in turn makes it slow for large datasets.\n",
    "    - Not suitable for large arrays.\n",
    "\n",
    "\n",
    "\n",
    "### When to use ?\n",
    "    - When we are dealing with a small dataset.\n",
    "    - When you are searching for a dataset stored in contiguous memory.\n",
    "\n"
   ]
  },
  {
   "cell_type": "markdown",
   "metadata": {},
   "source": [
    "## Interval search\n",
    "These algorithms are specifically designed for searching in sorted data-structures. These type of searching algorithms are much more efficient than Linear Search as they repeatedly target the center of the search structure and divide the search space in half. For Example: Binary Search.\n",
    "\n",
    "\n",
    "\n",
    "### Binary Search\n",
    "\n",
    "Binary Search is defined as a searching algorithm used in a sorted array by repeatedly dividing the search interval in half. The idea of binary search is to use the information that the array is sorted and reduce the time complexity to O(log N). \n",
    "\n",
    "\n",
    "## How binary search works ?\n",
    "\n",
    "![binary_search](../../../../graphics/gif/binary-search-sequence-search.gif)\n",
    "\n",
    "\n",
    "\n",
    "\n",
    " Binary Search for 37\n",
    "\n",
    "**List:** 1, 3, 5, 7, 9, 11, 13, 15, 17, 19, 23, 29, 31, 37, 35, 43, 47, 53, 59\n",
    "\n",
    "**Steps:**\n",
    "\n",
    "1. **Start in the Middle:** You start by looking at the middle number, which is 19.\n",
    "\n",
    "    <details>\n",
    "    <summary>Click to expand: How to Calculate the Middle Number</summary>\n",
    "\n",
    "    **Calculating the Middle Number:**\n",
    "\n",
    "    To find the middle number for binary search:\n",
    "\n",
    "    1. Identify the index of the first number in your range.\n",
    "    2. Identify the index of the last number in your range.\n",
    "    3. Add the index of the first number to the index of the last number.\n",
    "    4. Divide the sum by 2.\n",
    "    5. The result is the index of the middle number.\n",
    "\n",
    "    For example, in the list `[1, 3, 5, 7, 9, 11]`:\n",
    "\n",
    "    - First number index: 0\n",
    "    - Last number index: 5\n",
    "    - (0 + 5) // 2 = 2\n",
    "\n",
    "    Since indices are whole numbers, the middle number is the element at index 2: 5.\n",
    "\n",
    "    </details>\n",
    "\n",
    "    \n",
    "\n",
    "2. **Compare with 37:** You compare 19 with 37. Since 37 is greater than 19, you know you should look to the right.\n",
    "\n",
    "3. **New Middle:** You now focus on the right half of the list: 23, 29, 31, 37, 35, 43, 47, 53, 59.\n",
    "\n",
    "4. **Compare with 37 Again:** You compare the middle number, which is 35, with 37. This time, 37 is greater than 35, so you keep moving to the right.\n",
    "\n",
    "5. **New Middle:** You're now left with 37, 43, 47, 53, 59.\n",
    "\n",
    "6. **Found!:** The middle number is 37, which is exactly what you were searching for! You found it.\n"
   ]
  },
  {
   "cell_type": "code",
   "execution_count": 181,
   "metadata": {},
   "outputs": [
    {
     "name": "stdout",
     "output_type": "stream",
     "text": [
      "13\n"
     ]
    }
   ],
   "source": [
    "array = [1, 3, 5, 7, 9, 11, 13, 15, 17, 19, 23, 29, 31, 37, 35, 43, 47, 53, 59]\n",
    "\n",
    "def binary_find(arr:list,key:int,start:int,end:int)->int:\n",
    "    while start <= end:\n",
    "        mid = (start+end)//2\n",
    "        if arr[mid] == key:\n",
    "            return mid\n",
    "        elif arr[mid]>key:\n",
    "            end -= 1\n",
    "        elif arr[mid]<key:\n",
    "            start+= 1    \n",
    "\n",
    "print(binary_find(array,37,0,len(array)-1))"
   ]
  },
  {
   "cell_type": "markdown",
   "metadata": {},
   "source": [
    "\n",
    "\n",
    "### Complexity Analysis\n",
    "\n",
    "- Time Complexity: O(log n)\n",
    "- Space Complexity: O(1)\n",
    "\n",
    "Binary search reduces the search space by half with each comparison, leading to a logarithmic growth rate in relation to the size of the array.\n",
    "\n",
    "### Advantages\n",
    "\n",
    "- **Efficiency**: Binary search is highly efficient, making it ideal for large datasets. Its logarithmic time complexity ensures rapid convergence to the target element.\n",
    "\n",
    "- **Applicability**: Binary search is specifically designed for sorted arrays. If the data is presorted, binary search provides a significant performance advantage over linear search.\n",
    "\n",
    "- **Deterministic**: Binary search guarantees a definite result – either the target element is found, or it's determined that the element doesn't exist in the array.\n",
    "\n",
    "### Disadvantages\n",
    "\n",
    "- **Sorted Array Requirement**: Binary search only works on sorted arrays. If the data isn't sorted, you'd need to sort it first, which could add an O(n log n) step.\n",
    "\n",
    "- **Space Overhead**: Binary search requires minimal additional memory (O(1)) for its iterative implementation. However, recursive implementations may lead to space overhead due to the call stack.\n",
    "\n",
    "- **Lack of Flexibility**: Binary search doesn't adapt well to dynamic or frequently changing data.\n",
    "\n",
    "### When to Use Binary Search\n",
    "\n",
    "- **Sorted Data**: Binary search is most effective when working with sorted data. If the data can be maintained in a sorted order, binary search offers a significant advantage over linear search.\n",
    "\n",
    "- **Large Datasets**: When dealing with large datasets, binary search's logarithmic time complexity outperforms linear search's linear time complexity.\n",
    "\n",
    "- **Predetermined Ordering**: When the data access pattern is known and doesn't involve frequent insertions or deletions, binary search can be highly efficient.\n",
    "\n",
    "\n",
    "\n",
    "<details>\n",
    "  \n",
    "<summary>Click to expand:  Searching Algorithms</summary>\n",
    "\n",
    " The \"best\" searching algorithm depends on the specific context and requirements of the search problem. Different algorithms have different strengths and weaknesses, and the choice of algorithm often depends on factors like the size of the dataset, the nature of the data, and the trade-off between time complexity and space complexity. Here are a few commonly used searching algorithms and their characteristics:\n",
    "\n",
    "1. **Linear Search**: This is the simplest searching algorithm, where each element in the list is checked one by one until the target element is found or the list is exhausted. It works well for small datasets, but its time complexity is O(n) in the worst case, where n is the number of elements in the list.\n",
    "\n",
    "2. **Binary Search**: Binary search is highly efficient but requires a sorted list. It works by repeatedly dividing the search interval in half. It has a time complexity of O(log n), making it suitable for large datasets.\n",
    "\n",
    "3. **Hashing**: Hashing involves mapping keys to indices in an array using a hash function. If implemented properly, hash-based searching can have an average-case time complexity of O(1), making it extremely fast. However, handling collisions and choosing a good hash function can be challenging.\n",
    "\n",
    "\n",
    "    **Note** : Must checkout hashing if want to search in unsorted array\n",
    "\n",
    "\n",
    "\n",
    "4. **Jump Search**: Jump search is similar to binary search but works on a sorted block of data. It jumps ahead by a fixed number of steps, and when a value greater than the target is found, it performs a linear search within the block. It combines aspects of linear and binary search algorithms.\n",
    "\n",
    "5. **Interpolation Search**: This algorithm works best for uniformly distributed sorted datasets. It estimates the position of the target element based on its value and the distribution of the data, which can result in faster convergence than binary search for some datasets.\n",
    "\n",
    "6. **Exponential Search**: Exponential search is especially useful when the target element lies towards the beginning of a sorted list. It involves doubling the search range until an interval containing the target element is found, and then performing a binary search within that interval.\n",
    "\n",
    "7. **Ternary Search**: Ternary search is similar to binary search but divides the dataset into three parts instead of two. It can be effective in cases where the data has a \"peak\" or \"valley\" pattern.\n",
    "\n",
    "8. **Fibonacci Search**: This is a variant of binary search that divides the dataset into Fibonacci-number-sized subarrays. It can be useful for large datasets where the size is not known in advance.\n",
    "\n",
    "The \"best\" algorithm depends on your specific use case. For example, if you have a small dataset, a linear search might be sufficient. If you have a large sorted dataset, binary search or interpolation search could be more appropriate. If you have a hash table available, hashing might provide fast access. Always consider the characteristics of your data and the requirements of your search when selecting an algorithm.\n",
    " \n",
    " </details>\n",
    "    \n"
   ]
  },
  {
   "cell_type": "markdown",
   "metadata": {},
   "source": [
    "Q1 . Given an array with all distinct elements, find the largest three elements. Expected time complexity is O(n) and extra space is O(1). "
   ]
  },
  {
   "cell_type": "code",
   "execution_count": 182,
   "metadata": {},
   "outputs": [
    {
     "name": "stdout",
     "output_type": "stream",
     "text": [
      "(23, 50, 90)\n"
     ]
    }
   ],
   "source": [
    "arr  = [10,4,3,50,23,90]\n",
    "# using linear search \n",
    "\n",
    "def findLargest(arr:list)->tuple:\n",
    "    first = second = third = 0\n",
    "    for i in range (0,len(arr)):\n",
    "        if (arr[i] > first):\n",
    "            third = second\n",
    "            second = first\n",
    "            first =arr[i]\n",
    "        elif (arr[i] > second):\n",
    "            third = second\n",
    "            second = arr[i]\n",
    "        elif (arr[i]>third):\n",
    "            third = arr[i]\n",
    "    return (third,second,first)\n",
    "\n",
    "print(findLargest(arr))        "
   ]
  },
  {
   "cell_type": "markdown",
   "metadata": {},
   "source": [
    "Q2 . Given an array arr[] of size N-1 with integers in the range of [1, N], the task is to find the missing number from the first N integers.\n",
    "\n",
    "```python\n",
    " arr = [1,2,4,6,3,7,8]\n",
    " N = 8\n",
    " output = 5 \n",
    "```\n",
    "\n",
    "*Explanation: The missing number between 1 to 8 is 5*"
   ]
  },
  {
   "cell_type": "code",
   "execution_count": 183,
   "metadata": {},
   "outputs": [
    {
     "name": "stdout",
     "output_type": "stream",
     "text": [
      "8\n"
     ]
    }
   ],
   "source": [
    "# By adding every number\n",
    "def checkMissingNumber(arr:list,n:int)->int:\n",
    "    sum = n*(n+1)//2\n",
    "    listSum = 0\n",
    "    for i in range(0,len(arr)+1):\n",
    "        listSum+=i\n",
    "    return sum -listSum\n",
    "\n",
    "arr = [1,2,4,6,3,7,8]\n",
    "N = 8\n",
    "print(checkMissingNumber(arr,N))"
   ]
  },
  {
   "cell_type": "markdown",
   "metadata": {},
   "source": [
    "Q3. Given an array of integers arr[], The task is to find the index of first repeating element in it i.e. the element that occurs more than once and whose index of the first occurrence is the smallest. \n",
    "\n",
    "\n",
    "```python\n",
    "Input: arr[] = {10, 5, 3, 4, 3, 5, 6}\n",
    "Output: 5 \n",
    "```\n",
    "*Explanation: 5 is the first element that repeats*\n"
   ]
  },
  {
   "cell_type": "code",
   "execution_count": 184,
   "metadata": {},
   "outputs": [
    {
     "name": "stdout",
     "output_type": "stream",
     "text": [
      "5\n"
     ]
    }
   ],
   "source": [
    "# find repeating element\n",
    "def findRepeatingElement(arr:list)->int:\n",
    "    for i in range(0,len(arr)):\n",
    "        for j in range(i+1,len(arr)):\n",
    "            if arr[j] == arr[i]:\n",
    "                return arr[i]\n",
    "    return -1 \n",
    "arr =  [10, 5, 3,4, 3, 5, 6]  \n",
    "print(findRepeatingElement(arr))"
   ]
  },
  {
   "cell_type": "markdown",
   "metadata": {},
   "source": [
    "However the above approach is not so efficient so i wont recommend this also uses two loops, instead you can see the below approach which utilses `Set`. [Set](\"https://www.w3schools.com/python/python_sets.asp\") is a collection data type which has property of storing one unique elements. searching for item inside set is not performed linearly it uses hashing hence time complexity of O(1) which makes this approach more efficient even dealing with larger arrays"
   ]
  },
  {
   "cell_type": "code",
   "execution_count": 185,
   "metadata": {},
   "outputs": [
    {
     "name": "stdout",
     "output_type": "stream",
     "text": [
      "5\n"
     ]
    }
   ],
   "source": [
    "def findRepeatingElemenUsingSet(arr:list)->int:\n",
    "    items = set()\n",
    "    for element in arr:\n",
    "        if element in items:\n",
    "            return element\n",
    "        else :\n",
    "            items.add(element)    \n",
    "\n",
    "    return -1        \n",
    "arr =  [10, 5, 3,4, 3, 5, 6]  \n",
    "print(findRepeatingElement(arr))\n"
   ]
  },
  {
   "cell_type": "markdown",
   "metadata": {},
   "source": [
    "Q4. Given a binary array arr[] of size N, which is sorted in non-increasing order, count the number of 1’s in it. \n",
    "\n",
    "```python\n",
    "Input: arr[] = {1, 1, 0, 0, 0, 0, 0}\n",
    "Output: 2\n",
    "\n",
    "Input: arr[] = {1, 1, 1, 1, 1, 1, 1}\n",
    "Output: 7\n",
    "```"
   ]
  },
  {
   "cell_type": "code",
   "execution_count": 186,
   "metadata": {},
   "outputs": [
    {
     "name": "stdout",
     "output_type": "stream",
     "text": [
      "100\n",
      "100\n"
     ]
    }
   ],
   "source": [
    "# Using binary Search instead of linear search \n",
    "def countOnes(arr:list)->int:\n",
    "    start = 0\n",
    "    end = len(arr) -1\n",
    "    while start <= end:\n",
    "        mid = (start + end)//2\n",
    "        if arr[mid] == 1 and  arr[mid+1] == 0:\n",
    "            return mid + 1\n",
    "        elif arr[mid] == 1 and arr[mid+1]!= 0:\n",
    "            start = mid + 1\n",
    "        elif arr[mid] == 0 :\n",
    "            end = mid -1\n",
    "        \n",
    "\n",
    "arr = [0,0,0,0,0,0,0]\n",
    "for i in range(100):\n",
    "    arr.insert(0,1)  \n",
    "print(arr.count(1))\n",
    "print(countOnes(arr))     "
   ]
  }
 ],
 "metadata": {
  "kernelspec": {
   "display_name": "Python 3",
   "language": "python",
   "name": "python3"
  },
  "language_info": {
   "codemirror_mode": {
    "name": "ipython",
    "version": 3
   },
   "file_extension": ".py",
   "mimetype": "text/x-python",
   "name": "python",
   "nbconvert_exporter": "python",
   "pygments_lexer": "ipython3",
   "version": "3.11.4"
  },
  "orig_nbformat": 4
 },
 "nbformat": 4,
 "nbformat_minor": 2
}
