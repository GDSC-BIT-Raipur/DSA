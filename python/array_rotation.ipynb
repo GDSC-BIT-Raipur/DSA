{
 "cells": [
  {
   "cell_type": "markdown",
   "metadata": {},
   "source": [
    "# Array Rotation method \n",
    "\n",
    "Using reversal algorithm here we reverse two arrays"
   ]
  },
  {
   "cell_type": "code",
   "execution_count": null,
   "metadata": {},
   "outputs": [],
   "source": [
    "arr = [1,2,3,4,5,6,7]\n",
    "\n",
    "def reverse(arr:list,start:int,end:int)->list:\n",
    "    while start < end:\n",
    "        arr[start],arr[end] = arr[end],arr[start]\n",
    "        start+=1\n",
    "        end-=1\n",
    "    return arr\n",
    "\n",
    "# d = 3 \n",
    "def rightRotateByJuggling(arr:list,d:int)->list:\n",
    "    reverse(arr,0,d)\n",
    "    reverse(arr,d+1,len(arr)-1)\n",
    "    reverse(arr,0,len(arr)-1)\n",
    "    return arr   \n",
    "        \n",
    "print(rightRotateByJuggling(arr,3))"
   ]
  }
 ],
 "metadata": {
  "kernelspec": {
   "display_name": "Python 3",
   "language": "python",
   "name": "python3"
  },
  "language_info": {
   "codemirror_mode": {
    "name": "ipython",
    "version": 3
   },
   "file_extension": ".py",
   "mimetype": "text/x-python",
   "name": "python",
   "nbconvert_exporter": "python",
   "pygments_lexer": "ipython3",
   "version": "3.11.4"
  },
  "orig_nbformat": 4
 },
 "nbformat": 4,
 "nbformat_minor": 2
}
